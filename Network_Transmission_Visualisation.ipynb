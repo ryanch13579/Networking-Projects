{
  "nbformat": 4,
  "nbformat_minor": 0,
  "metadata": {
    "colab": {
      "provenance": [],
      "mount_file_id": "1RPZt8U8oxyYTDLBz3vP1T9jrfWqgVMVL",
      "authorship_tag": "ABX9TyMmmBNSy9x5jUMwVMfbG5dq",
      "include_colab_link": true
    },
    "kernelspec": {
      "name": "python3",
      "display_name": "Python 3"
    },
    "language_info": {
      "name": "python"
    }
  },
  "cells": [
    {
      "cell_type": "markdown",
      "metadata": {
        "id": "view-in-github",
        "colab_type": "text"
      },
      "source": [
        "<a href=\"https://colab.research.google.com/github/ryanch13579/Networking-Projects/blob/main/Network_Transmission_Visualisation.ipynb\" target=\"_parent\"><img src=\"https://colab.research.google.com/assets/colab-badge.svg\" alt=\"Open In Colab\"/></a>"
      ]
    },
    {
      "cell_type": "markdown",
      "source": [
        "#Simple way to visual network data path captured from WireShark on Google Maps"
      ],
      "metadata": {
        "id": "7nZskFslg-GU"
      }
    },
    {
      "cell_type": "markdown",
      "source": [
        "Pre-requisites:\n",
        "1. Download GeoliteCity\n",
        "2. Get a pcap file from WireShark"
      ],
      "metadata": {
        "id": "fOEXYQ3tfyip"
      }
    },
    {
      "cell_type": "code",
      "source": [
        "!pip install dpkt"
      ],
      "metadata": {
        "id": "xnT6w42itXV5"
      },
      "execution_count": null,
      "outputs": []
    },
    {
      "cell_type": "code",
      "source": [
        "!pip install pygeoip"
      ],
      "metadata": {
        "id": "1lxozuoatkkp"
      },
      "execution_count": null,
      "outputs": []
    },
    {
      "cell_type": "code",
      "execution_count": null,
      "metadata": {
        "id": "gXNntzq9suyD"
      },
      "outputs": [],
      "source": [
        "import dpkt\n",
        "import socket\n",
        "import pygeoip"
      ]
    },
    {
      "cell_type": "code",
      "source": [
        "gi = pygeoip.GeoIP('/content/Networking Project/Network Tracking using Wireshark/GeoLiteCity.dat')"
      ],
      "metadata": {
        "id": "Ql9XVZhX0jsk"
      },
      "execution_count": null,
      "outputs": []
    },
    {
      "cell_type": "code",
      "source": [
        "def retKML(dstrip, srcip):\n",
        "  dst = gi.record_by_name(dstrip)\n",
        "  src = gi.record_by_name('XXX.XXX.XXX.XXX') #Your personal Public IP\n",
        "  try:\n",
        "      dstlongitude = dst['longitude']\n",
        "      dstlatitude = dst['latitude']\n",
        "      srclongitude = src['longitude']\n",
        "      srclatitude = src['latitude']\n",
        "      kml = (\n",
        "          '<Placemark>\\n'\n",
        "          '<name>%s</name>\\n'\n",
        "          '<extrude>1</extrude>\\n'\n",
        "          '<tessellate>1</tessellate>\\n'\n",
        "          '<styleUrl>#transBluePoly</styleUrl>\\n'\n",
        "          '<LineString>\\n'\n",
        "          '<coordinates>%6f,%6f\\n%6f,%6f</coordinates>\\n'\n",
        "          '</LineString>\\n'\n",
        "          '</Placemark>\\n'\n",
        "      )%(dstrip, dstlongitude, dstlatitude, srclongitude, srclatitude)\n",
        "      return kml\n",
        "  except:\n",
        "    return ''"
      ],
      "metadata": {
        "id": "43Psxc5QvzBY"
      },
      "execution_count": null,
      "outputs": []
    },
    {
      "cell_type": "code",
      "source": [
        "def plotIPs(pcap):\n",
        "  kmlPts = ''\n",
        "  for (ts, buf) in pcap:\n",
        "    try:\n",
        "      eth = dpkt.ethernet.Ethernet(buf)\n",
        "      ip = eth.data\n",
        "      src = socket.inet_ntoa(ip.src)\n",
        "      dst = socket.inet_ntoa(ip.dst)\n",
        "      KML = retKML(dst, src)\n",
        "      kmlPts = kmlPts + KML\n",
        "    except:\n",
        "      pass\n",
        "  return kmlPts"
      ],
      "metadata": {
        "id": "dTiQC680xvHu"
      },
      "execution_count": null,
      "outputs": []
    },
    {
      "cell_type": "code",
      "source": [
        "def main():\n",
        "  f = open('/content/Networking Project/Network Tracking using Wireshark/data.pcap', 'rb')\n",
        "  pcap = dpkt.pcap.Reader(f)\n",
        "  kmlheader = '<?xml version = \"1.0\" encoding = \"UTF-8\"?> \\n<kml xmlns=\"http://www.opengis.net/kml/2.2\">\\n<Document>\\n'\\\n",
        "              '<Style id=\"transBluePoly\">' \\\n",
        "                '<LineStyle>' \\\n",
        "                '<width>1.5</width>' \\\n",
        "                '<color>501400E6</color>' \\\n",
        "                '</LineStyle>' \\\n",
        "                '</Style>'\n",
        "\n",
        "  kmlfooter = '</Document>\\n</kml>\\n'\n",
        "  kmldoc = kmlheader+plotIPs(pcap) + kmlfooter\n",
        "  with open('/content/Networking Project/Network Tracking using Wireshark/output.kml', 'w') as kml_file:\n",
        "    kml_file.write(kmldoc)\n",
        "  print(kmldoc)\n",
        "\n",
        "if __name__ == '__main__':\n",
        "  main()\n"
      ],
      "metadata": {
        "id": "Dbs1UDEcteJJ"
      },
      "execution_count": null,
      "outputs": []
    }
  ]
}